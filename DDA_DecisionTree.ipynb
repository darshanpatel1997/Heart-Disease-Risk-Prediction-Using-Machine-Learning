{
  "cells": [
    {
      "cell_type": "code",
      "source": [
        "# Install Java, Spark, and Findspark to initiate Spark in Python\n",
        "!apt-get install openjdk-8-jdk-headless -qq > /dev/null\n",
        "!wget -q http://apache.osuosl.org/spark/spark-3.1.1/spark-3.1.1-bin-hadoop2.7.tgz\n",
        "!wget https://archive.apache.org/dist/spark/spark-3.1.1/spark-3.1.1-bin-hadoop2.7.tgz\n",
        "\n",
        "!tar xf spark-3.1.1-bin-hadoop2.7.tgz\n",
        "!pip install -q findspark\n",
        "\n",
        "# Set environment variables\n",
        "import os\n",
        "os.environ[\"JAVA_HOME\"] = \"/usr/lib/jvm/java-8-openjdk-amd64\"\n",
        "os.environ[\"SPARK_HOME\"] = \"/content/spark-3.1.1-bin-hadoop2.7\"\n",
        "\n",
        "# Start a Spark session\n",
        "import findspark\n",
        "findspark.init()\n",
        "from pyspark.sql import SparkSession\n",
        "spark = SparkSession.builder.master(\"local[*]\").appName(\"HeartAttackPrediction\").getOrCreate()\n"
      ],
      "metadata": {
        "colab": {
          "base_uri": "https://localhost:8080/"
        },
        "id": "t3WCuq30M1wp",
        "outputId": "1646ae0b-0a9a-48ce-ae95-c5a4c7cbfbd5"
      },
      "execution_count": 6,
      "outputs": [
        {
          "output_type": "stream",
          "name": "stdout",
          "text": [
            "--2024-04-16 23:29:47--  https://archive.apache.org/dist/spark/spark-3.1.1/spark-3.1.1-bin-hadoop2.7.tgz\n",
            "Resolving archive.apache.org (archive.apache.org)... 65.108.204.189, 2a01:4f9:1a:a084::2\n",
            "Connecting to archive.apache.org (archive.apache.org)|65.108.204.189|:443... connected.\n",
            "HTTP request sent, awaiting response... 200 OK\n",
            "Length: 224374704 (214M) [application/x-gzip]\n",
            "Saving to: ‘spark-3.1.1-bin-hadoop2.7.tgz’\n",
            "\n",
            "spark-3.1.1-bin-had 100%[===================>] 213.98M  21.8MB/s    in 11s     \n",
            "\n",
            "2024-04-16 23:29:58 (19.8 MB/s) - ‘spark-3.1.1-bin-hadoop2.7.tgz’ saved [224374704/224374704]\n",
            "\n"
          ]
        }
      ]
    },
    {
      "cell_type": "code",
      "source": [
        "!tar -xvzf spark-3.1.1-bin-hadoop2.7.tgz\n",
        "\n"
      ],
      "metadata": {
        "colab": {
          "base_uri": "https://localhost:8080/"
        },
        "id": "VpYad_j7PWPS",
        "outputId": "9f3a7e17-db03-4d8a-a149-bdff7f05d915"
      },
      "execution_count": 5,
      "outputs": [
        {
          "output_type": "stream",
          "name": "stdout",
          "text": [
            "tar (child): spark-3.1.1-bin-hadoop2.7.tgz: Cannot open: No such file or directory\n",
            "tar (child): Error is not recoverable: exiting now\n",
            "tar: Child returned status 2\n",
            "tar: Error is not recoverable: exiting now\n"
          ]
        }
      ]
    },
    {
      "cell_type": "code",
      "source": [
        "# Load the data from a CSV file\n",
        "df = spark.read.csv('/content/heart_prediction_cleaned.csv', header=True, inferSchema=True)\n",
        "\n",
        "# Display the first few rows of the dataset to understand its structure\n",
        "df.show(5)\n",
        "\n",
        "# Print the schema to check data types\n",
        "df.printSchema()\n"
      ],
      "metadata": {
        "colab": {
          "base_uri": "https://localhost:8080/"
        },
        "id": "2tQgsUVpM1-O",
        "outputId": "b9e181da-7d07-4505-d99c-e43423b83f72"
      },
      "execution_count": 7,
      "outputs": [
        {
          "output_type": "stream",
          "name": "stdout",
          "text": [
            "+---+------+-------------+------------------+----------------+------------------+---------+---------+----------+---------+----------------+-----------+-----------------+------------+---------+---------------------+------------------+--------------+----------------+---------------+--------------+\n",
            "|_c0|   Sex|GeneralHealth|PhysicalHealthDays|MentalHealthDays|PhysicalActivities|HadAngina|HadStroke|SleepHours|HadAsthma|HadKidneyDisease|HadDiabetes|DifficultyWalking|SmokerStatus|ChestScan|RaceEthnicityCategory|       AgeCategory|HeightInMeters|             BMI|AlcoholDrinkers|HadHeartAttack|\n",
            "+---+------+-------------+------------------+----------------+------------------+---------+---------+----------+---------+----------------+-----------+-----------------+------------+---------+---------------------+------------------+--------------+----------------+---------------+--------------+\n",
            "|  1|Female|    Very good|                 0|               0|                 0|        0|        0|         8|        0|               0|          1|                0|          No|        0|                White|          Over-80s|          1.83|21.6698020245454|              0|             0|\n",
            "|  2|Female|    Excellent|                 0|               0|                 0|        0|        0|         6|        0|               0|          0|                0|          No|        0|                White|          Over-80s|           1.6|           26.57|              0|             0|\n",
            "|  3|Female|    Very good|                 2|               3|                 1|        0|        0|         5|        0|               0|          0|                0|          No|        0|                White|Middle Aged Adults|          1.57|           25.61|              0|             0|\n",
            "|  4|Female|    Excellent|                 0|               0|                 1|        0|        0|         7|        1|               0|          0|                0|         Yes|        1|                White|           Unknown|          1.65|            23.3|              0|             0|\n",
            "|  5|Female|         Fair|                 2|               0|                 1|        0|        0|         9|        0|               0|          0|                0|          No|        1|                White|Middle Aged Adults|          1.57|           21.77|              1|             0|\n",
            "+---+------+-------------+------------------+----------------+------------------+---------+---------+----------+---------+----------------+-----------+-----------------+------------+---------+---------------------+------------------+--------------+----------------+---------------+--------------+\n",
            "only showing top 5 rows\n",
            "\n",
            "root\n",
            " |-- _c0: integer (nullable = true)\n",
            " |-- Sex: string (nullable = true)\n",
            " |-- GeneralHealth: string (nullable = true)\n",
            " |-- PhysicalHealthDays: integer (nullable = true)\n",
            " |-- MentalHealthDays: integer (nullable = true)\n",
            " |-- PhysicalActivities: integer (nullable = true)\n",
            " |-- HadAngina: integer (nullable = true)\n",
            " |-- HadStroke: integer (nullable = true)\n",
            " |-- SleepHours: integer (nullable = true)\n",
            " |-- HadAsthma: integer (nullable = true)\n",
            " |-- HadKidneyDisease: integer (nullable = true)\n",
            " |-- HadDiabetes: integer (nullable = true)\n",
            " |-- DifficultyWalking: integer (nullable = true)\n",
            " |-- SmokerStatus: string (nullable = true)\n",
            " |-- ChestScan: integer (nullable = true)\n",
            " |-- RaceEthnicityCategory: string (nullable = true)\n",
            " |-- AgeCategory: string (nullable = true)\n",
            " |-- HeightInMeters: double (nullable = true)\n",
            " |-- BMI: double (nullable = true)\n",
            " |-- AlcoholDrinkers: integer (nullable = true)\n",
            " |-- HadHeartAttack: integer (nullable = true)\n",
            "\n"
          ]
        }
      ]
    },
    {
      "cell_type": "code",
      "source": [
        "# Import necessary libraries for data preprocessing\n",
        "from pyspark.ml.feature import StringIndexer, VectorAssembler\n",
        "from pyspark.ml import Pipeline\n",
        "\n",
        "# Index the categorical target variable 'HadHeartAttack'\n",
        "indexer = StringIndexer(inputCol=\"HadHeartAttack\", outputCol=\"label\")\n",
        "\n",
        "# Assemble numeric features into a single vector column\n",
        "numeric_features = [t[0] for t in df.dtypes if t[1] != 'string' and t[0] != 'HadHeartAttack']\n",
        "assembler = VectorAssembler(inputCols=numeric_features, outputCol=\"features\")\n",
        "\n",
        "# Define a pipeline to apply transformations\n",
        "pipeline = Pipeline(stages=[indexer, assembler])\n",
        "data_transformed = pipeline.fit(df).transform(df)\n"
      ],
      "metadata": {
        "id": "k9QGVdwWM7Tx"
      },
      "execution_count": 8,
      "outputs": []
    },
    {
      "cell_type": "code",
      "source": [
        "# Randomly split data into training and testing sets\n",
        "train_data, test_data = data_transformed.randomSplit([0.7, 0.3])\n"
      ],
      "metadata": {
        "id": "ip0INckKM-Mt"
      },
      "execution_count": 9,
      "outputs": []
    },
    {
      "cell_type": "code",
      "source": [
        "# Import Decision Tree Classifier\n",
        "from pyspark.ml.classification import DecisionTreeClassifier\n",
        "\n",
        "# Create a Decision Tree model\n",
        "dt = DecisionTreeClassifier(featuresCol='features', labelCol='label')\n",
        "\n",
        "# Train the model\n",
        "model = dt.fit(train_data)\n"
      ],
      "metadata": {
        "id": "5QqlCT2ZM_g5"
      },
      "execution_count": 10,
      "outputs": []
    },
    {
      "cell_type": "code",
      "source": [
        "# Predictions\n",
        "predictions = model.transform(test_data)\n",
        "\n",
        "# Import evaluator\n",
        "from pyspark.ml.evaluation import MulticlassClassificationEvaluator\n",
        "\n",
        "# Evaluate the model using accuracy\n",
        "evaluator = MulticlassClassificationEvaluator(labelCol=\"label\", predictionCol=\"prediction\", metricName=\"accuracy\")\n",
        "accuracy = evaluator.evaluate(predictions)\n",
        "print(f\"Model Accuracy: {accuracy}\")\n",
        "\n",
        "# Optionally, get detailed report (e.g., Confusion Matrix)\n",
        "from pyspark.mllib.evaluation import MulticlassMetrics\n",
        "predictionAndLabels = predictions.select(\"prediction\", \"label\").rdd\n",
        "metrics = MulticlassMetrics(predictionAndLabels)\n",
        "print(f\"Confusion Matrix:\\n{metrics.confusionMatrix().toArray()}\")\n"
      ],
      "metadata": {
        "colab": {
          "base_uri": "https://localhost:8080/"
        },
        "id": "Qh1CbSJMNAja",
        "outputId": "dc1621f7-4e88-479d-aedf-8278dcf70332"
      },
      "execution_count": 11,
      "outputs": [
        {
          "output_type": "stream",
          "name": "stdout",
          "text": [
            "Model Accuracy: 0.9483962078505366\n",
            "Confusion Matrix:\n",
            "[[81231.   601.]\n",
            " [ 3857.   700.]]\n"
          ]
        }
      ]
    }
  ],
  "metadata": {
    "colab": {
      "provenance": []
    },
    "kernelspec": {
      "display_name": "Python 3",
      "name": "python3"
    },
    "language_info": {
      "name": "python"
    }
  },
  "nbformat": 4,
  "nbformat_minor": 0
}