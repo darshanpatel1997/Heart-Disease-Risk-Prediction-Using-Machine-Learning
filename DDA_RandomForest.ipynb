{
  "nbformat": 4,
  "nbformat_minor": 0,
  "metadata": {
    "colab": {
      "provenance": []
    },
    "kernelspec": {
      "name": "python3",
      "display_name": "Python 3"
    },
    "language_info": {
      "name": "python"
    }
  },
  "cells": [
    {
      "cell_type": "code",
      "execution_count": 1,
      "metadata": {
        "colab": {
          "base_uri": "https://localhost:8080/"
        },
        "id": "9ArrhQv70NMx",
        "outputId": "ad201796-e2d9-484d-e38d-92f682ec248e"
      },
      "outputs": [
        {
          "output_type": "stream",
          "name": "stdout",
          "text": [
            "--2024-04-16 23:16:50--  https://archive.apache.org/dist/spark/spark-3.2.1/spark-3.2.1-bin-hadoop2.7.tgz\n",
            "Resolving archive.apache.org (archive.apache.org)... 65.108.204.189, 2a01:4f9:1a:a084::2\n",
            "Connecting to archive.apache.org (archive.apache.org)|65.108.204.189|:443... connected.\n",
            "HTTP request sent, awaiting response... 200 OK\n",
            "Length: 272637746 (260M) [application/x-gzip]\n",
            "Saving to: ‘spark-3.2.1-bin-hadoop2.7.tgz’\n",
            "\n",
            "spark-3.2.1-bin-had 100%[===================>] 260.01M  15.0MB/s    in 24s     \n",
            "\n",
            "2024-04-16 23:17:15 (10.7 MB/s) - ‘spark-3.2.1-bin-hadoop2.7.tgz’ saved [272637746/272637746]\n",
            "\n",
            "\u001b[2K     \u001b[90m━━━━━━━━━━━━━━━━━━━━━━━━━━━━━━━━━━━━━━━━\u001b[0m \u001b[32m317.0/317.0 MB\u001b[0m \u001b[31m3.6 MB/s\u001b[0m eta \u001b[36m0:00:00\u001b[0m\n",
            "\u001b[?25h  Preparing metadata (setup.py) ... \u001b[?25l\u001b[?25hdone\n",
            "  Building wheel for pyspark (setup.py) ... \u001b[?25l\u001b[?25hdone\n",
            "<SparkContext master=local[*] appName=My Spark App>\n"
          ]
        }
      ],
      "source": [
        "# Install Java and Spark dependencies\n",
        "!apt-get install openjdk-11-jdk-headless -qq > /dev/null\n",
        "\n",
        "# Download Spark from the Apache archive\n",
        "!wget https://archive.apache.org/dist/spark/spark-3.2.1/spark-3.2.1-bin-hadoop2.7.tgz\n",
        "\n",
        "# Unpack the Spark tar file\n",
        "!tar xf spark-3.2.1-bin-hadoop2.7.tgz\n",
        "\n",
        "# Install PySpark and FindSpark\n",
        "!pip install -q findspark pyspark\n",
        "\n",
        "# Setting environment variables\n",
        "import os\n",
        "os.environ[\"JAVA_HOME\"] = \"/usr/lib/jvm/java-11-openjdk-amd64\"\n",
        "os.environ[\"SPARK_HOME\"] = \"/content/spark-3.2.1-bin-hadoop2.7\"\n",
        "\n",
        "# Initialize FindSpark\n",
        "import findspark\n",
        "findspark.init()\n",
        "\n",
        "# Start a Spark session\n",
        "from pyspark.sql import SparkSession\n",
        "spark = SparkSession.builder.master(\"local[*]\").appName(\"My Spark App\").getOrCreate()\n",
        "\n",
        "# Test to ensure Spark session is active\n",
        "print(spark.sparkContext)"
      ]
    },
    {
      "cell_type": "code",
      "source": [
        "# Load the dataset\n",
        "df = spark.read.csv('/content/heart_prediction_cleaned.csv', header=True, inferSchema=True)\n",
        "df.show(5)\n"
      ],
      "metadata": {
        "colab": {
          "base_uri": "https://localhost:8080/"
        },
        "id": "ovhpNlgd0yJq",
        "outputId": "f10c216a-3349-4521-fe12-1183f7f14490"
      },
      "execution_count": 2,
      "outputs": [
        {
          "output_type": "stream",
          "name": "stdout",
          "text": [
            "+---+------+-------------+------------------+----------------+------------------+---------+---------+----------+---------+----------------+-----------+-----------------+------------+---------+---------------------+------------------+--------------+----------------+---------------+--------------+\n",
            "|_c0|   Sex|GeneralHealth|PhysicalHealthDays|MentalHealthDays|PhysicalActivities|HadAngina|HadStroke|SleepHours|HadAsthma|HadKidneyDisease|HadDiabetes|DifficultyWalking|SmokerStatus|ChestScan|RaceEthnicityCategory|       AgeCategory|HeightInMeters|             BMI|AlcoholDrinkers|HadHeartAttack|\n",
            "+---+------+-------------+------------------+----------------+------------------+---------+---------+----------+---------+----------------+-----------+-----------------+------------+---------+---------------------+------------------+--------------+----------------+---------------+--------------+\n",
            "|  1|Female|    Very good|                 0|               0|                 0|        0|        0|         8|        0|               0|          1|                0|          No|        0|                White|          Over-80s|          1.83|21.6698020245454|              0|             0|\n",
            "|  2|Female|    Excellent|                 0|               0|                 0|        0|        0|         6|        0|               0|          0|                0|          No|        0|                White|          Over-80s|           1.6|           26.57|              0|             0|\n",
            "|  3|Female|    Very good|                 2|               3|                 1|        0|        0|         5|        0|               0|          0|                0|          No|        0|                White|Middle Aged Adults|          1.57|           25.61|              0|             0|\n",
            "|  4|Female|    Excellent|                 0|               0|                 1|        0|        0|         7|        1|               0|          0|                0|         Yes|        1|                White|           Unknown|          1.65|            23.3|              0|             0|\n",
            "|  5|Female|         Fair|                 2|               0|                 1|        0|        0|         9|        0|               0|          0|                0|          No|        1|                White|Middle Aged Adults|          1.57|           21.77|              1|             0|\n",
            "+---+------+-------------+------------------+----------------+------------------+---------+---------+----------+---------+----------------+-----------+-----------------+------------+---------+---------------------+------------------+--------------+----------------+---------------+--------------+\n",
            "only showing top 5 rows\n",
            "\n"
          ]
        }
      ]
    },
    {
      "cell_type": "code",
      "source": [
        "# Install Spark and setup environment\n",
        "!pip install pyspark\n",
        "from pyspark.sql import SparkSession\n",
        "\n",
        "# Create a Spark session\n",
        "spark = SparkSession.builder.appName(\"HeartAttackPrediction_cleaned\").getOrCreate()\n",
        "\n",
        "# Load data\n",
        "df = spark.read.csv('/content/heart_prediction_cleaned.csv', header=True, inferSchema=True)\n",
        "df.show(5)\n",
        "\n",
        "# Check for null values and data types\n",
        "df.printSchema()\n",
        "\n",
        "# Preprocessing: Indexing, handling categorical columns, assembling features\n",
        "from pyspark.ml.feature import StringIndexer, VectorAssembler\n",
        "from pyspark.ml import Pipeline\n",
        "\n",
        "# Indexing the target column\n",
        "indexer = StringIndexer(inputCol=\"HadHeartAttack\", outputCol=\"label\")\n",
        "\n",
        "# Assemble numeric features\n",
        "numeric_features = [t[0] for t in df.dtypes if t[1] != 'string' and t[0] != 'HadHeartAttack']\n",
        "assembler = VectorAssembler(inputCols=numeric_features, outputCol=\"features\")\n",
        "\n",
        "# Pipeline for preprocessing\n",
        "pipeline = Pipeline(stages=[indexer, assembler])\n",
        "\n",
        "data_transformed = pipeline.fit(df).transform(df)\n",
        "\n",
        "# Split data into training and testing\n",
        "train_data, test_data = data_transformed.randomSplit([0.7, 0.3])\n",
        "\n",
        "# Random Forest model\n",
        "from pyspark.ml.classification import RandomForestClassifier\n",
        "rf = RandomForestClassifier(featuresCol='features', labelCol='label')\n",
        "\n",
        "# Train the model\n",
        "model = rf.fit(train_data)\n",
        "\n",
        "# Predictions\n",
        "predictions = model.transform(test_data)\n",
        "\n",
        "# Evaluate the model\n",
        "from pyspark.ml.evaluation import BinaryClassificationEvaluator\n",
        "evaluator = BinaryClassificationEvaluator()\n",
        "accuracy = evaluator.evaluate(predictions, {evaluator.metricName: \"areaUnderROC\"})\n",
        "\n",
        "print(f\"Model Accuracy (Area Under ROC): {accuracy}\")\n",
        "\n",
        "\n"
      ],
      "metadata": {
        "colab": {
          "base_uri": "https://localhost:8080/"
        },
        "id": "SglzzYyc07-b",
        "outputId": "5d8d01cd-f629-4ae6-ad4b-43385a521130"
      },
      "execution_count": 3,
      "outputs": [
        {
          "output_type": "stream",
          "name": "stdout",
          "text": [
            "Requirement already satisfied: pyspark in /usr/local/lib/python3.10/dist-packages (3.5.1)\n",
            "Requirement already satisfied: py4j==0.10.9.7 in /usr/local/lib/python3.10/dist-packages (from pyspark) (0.10.9.7)\n",
            "+---+------+-------------+------------------+----------------+------------------+---------+---------+----------+---------+----------------+-----------+-----------------+------------+---------+---------------------+------------------+--------------+----------------+---------------+--------------+\n",
            "|_c0|   Sex|GeneralHealth|PhysicalHealthDays|MentalHealthDays|PhysicalActivities|HadAngina|HadStroke|SleepHours|HadAsthma|HadKidneyDisease|HadDiabetes|DifficultyWalking|SmokerStatus|ChestScan|RaceEthnicityCategory|       AgeCategory|HeightInMeters|             BMI|AlcoholDrinkers|HadHeartAttack|\n",
            "+---+------+-------------+------------------+----------------+------------------+---------+---------+----------+---------+----------------+-----------+-----------------+------------+---------+---------------------+------------------+--------------+----------------+---------------+--------------+\n",
            "|  1|Female|    Very good|                 0|               0|                 0|        0|        0|         8|        0|               0|          1|                0|          No|        0|                White|          Over-80s|          1.83|21.6698020245454|              0|             0|\n",
            "|  2|Female|    Excellent|                 0|               0|                 0|        0|        0|         6|        0|               0|          0|                0|          No|        0|                White|          Over-80s|           1.6|           26.57|              0|             0|\n",
            "|  3|Female|    Very good|                 2|               3|                 1|        0|        0|         5|        0|               0|          0|                0|          No|        0|                White|Middle Aged Adults|          1.57|           25.61|              0|             0|\n",
            "|  4|Female|    Excellent|                 0|               0|                 1|        0|        0|         7|        1|               0|          0|                0|         Yes|        1|                White|           Unknown|          1.65|            23.3|              0|             0|\n",
            "|  5|Female|         Fair|                 2|               0|                 1|        0|        0|         9|        0|               0|          0|                0|          No|        1|                White|Middle Aged Adults|          1.57|           21.77|              1|             0|\n",
            "+---+------+-------------+------------------+----------------+------------------+---------+---------+----------+---------+----------------+-----------+-----------------+------------+---------+---------------------+------------------+--------------+----------------+---------------+--------------+\n",
            "only showing top 5 rows\n",
            "\n",
            "root\n",
            " |-- _c0: integer (nullable = true)\n",
            " |-- Sex: string (nullable = true)\n",
            " |-- GeneralHealth: string (nullable = true)\n",
            " |-- PhysicalHealthDays: integer (nullable = true)\n",
            " |-- MentalHealthDays: integer (nullable = true)\n",
            " |-- PhysicalActivities: integer (nullable = true)\n",
            " |-- HadAngina: integer (nullable = true)\n",
            " |-- HadStroke: integer (nullable = true)\n",
            " |-- SleepHours: integer (nullable = true)\n",
            " |-- HadAsthma: integer (nullable = true)\n",
            " |-- HadKidneyDisease: integer (nullable = true)\n",
            " |-- HadDiabetes: integer (nullable = true)\n",
            " |-- DifficultyWalking: integer (nullable = true)\n",
            " |-- SmokerStatus: string (nullable = true)\n",
            " |-- ChestScan: integer (nullable = true)\n",
            " |-- RaceEthnicityCategory: string (nullable = true)\n",
            " |-- AgeCategory: string (nullable = true)\n",
            " |-- HeightInMeters: double (nullable = true)\n",
            " |-- BMI: double (nullable = true)\n",
            " |-- AlcoholDrinkers: integer (nullable = true)\n",
            " |-- HadHeartAttack: integer (nullable = true)\n",
            "\n",
            "Model Accuracy (Area Under ROC): 0.8533102647425741\n"
          ]
        }
      ]
    },
    {
      "cell_type": "code",
      "source": [
        "from pyspark.ml.evaluation import MulticlassClassificationEvaluator\n",
        "from pyspark.mllib.evaluation import MulticlassMetrics\n",
        "from pyspark.sql.functions import col\n",
        "\n",
        "# Evaluate the accuracy of the model\n",
        "evaluator_accuracy = MulticlassClassificationEvaluator(labelCol=\"label\", predictionCol=\"prediction\", metricName=\"accuracy\")\n",
        "accuracy = evaluator_accuracy.evaluate(predictions)\n",
        "print(f\"Accuracy: {accuracy}\")\n",
        "\n",
        "# Convert DataFrame to RDD to use MulticlassMetrics for confusion matrix\n",
        "predictionAndLabels = predictions.select(\"prediction\", \"label\").rdd\n",
        "\n",
        "# Instantiate metrics object\n",
        "metrics = MulticlassMetrics(predictionAndLabels)\n",
        "\n",
        "# Confusion matrix\n",
        "confusion_matrix = metrics.confusionMatrix().toArray()\n",
        "print(\"Confusion Matrix:\")\n",
        "print(confusion_matrix)\n"
      ],
      "metadata": {
        "id": "a05Ks9wBUvAQ",
        "colab": {
          "base_uri": "https://localhost:8080/"
        },
        "outputId": "5b6c9437-2466-46d4-d6eb-99caad6c6090"
      },
      "execution_count": 4,
      "outputs": [
        {
          "output_type": "stream",
          "name": "stdout",
          "text": [
            "Accuracy: 0.9491554875929659\n"
          ]
        },
        {
          "output_type": "stream",
          "name": "stderr",
          "text": [
            "/content/spark-3.2.1-bin-hadoop2.7/python/pyspark/sql/context.py:125: FutureWarning: Deprecated in 3.0.0. Use SparkSession.builder.getOrCreate() instead.\n",
            "  warnings.warn(\n"
          ]
        },
        {
          "output_type": "stream",
          "name": "stdout",
          "text": [
            "Confusion Matrix:\n",
            "[[8.1802e+04 5.0000e+01]\n",
            " [4.3390e+03 1.3100e+02]]\n"
          ]
        }
      ]
    }
  ]
}